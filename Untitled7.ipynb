{
 "cells": [
  {
   "cell_type": "code",
   "execution_count": 9,
   "id": "8702f017",
   "metadata": {},
   "outputs": [
    {
     "name": "stdout",
     "output_type": "stream",
     "text": [
      "welcome to Brain Mentors Login System\n",
      "login or register (login,reg): reg\n",
      "Enter your name and password to register\n",
      "Enter your name: nitin tanwar\n",
      "Enter your password: login@456\n",
      "Welcome to Brain Mentors Login System\n",
      "### USER DETAILS ###\n",
      "Username:  nitin tanwar\n"
     ]
    }
   ],
   "source": [
    "granted = False\n",
    "def grant():\n",
    "    global granted\n",
    "    granted = True\n",
    "def login(name,password):\n",
    "    success = False\n",
    "    file = open(\"user_detail.txt\",\"r\")\n",
    "    for i in file:\n",
    "         a,b = i.split(\",\")\n",
    "         b = b.strip()\n",
    "         if(a==name and b==password):\n",
    "             success = True\n",
    "             break\n",
    "    file.close()\n",
    "    if(success):\n",
    "        print(\"Login Successful\")\n",
    "        grant()\n",
    "    else:\n",
    "        print(\"wrong user name or password\")\n",
    "        \n",
    "def register(name,password):\n",
    "    file = open(\"user_detail.txt\",\"a\")\n",
    "    file.write(\"\\n\"+name+\",\"+password)\n",
    "    grant()\n",
    "def access(option):\n",
    "    global name\n",
    "    if(option==\"login\"):\n",
    "        name = input(\"Enter your name: \")\n",
    "        password = input(\"Enter your password: \")\n",
    "        login(name,password)\n",
    "    else:\n",
    "        print(\"Enter your name and password to register\")\n",
    "        name = input(\"Enter your name: \")\n",
    "        password = input(\"Enter your password: \")\n",
    "        register(name,password)\n",
    "\n",
    "def begin():\n",
    "    global option\n",
    "    print(\"welcome to Brain Mentors Login System\")\n",
    "    option = input(\"login or register (login,reg): \")\n",
    "    if(option!=\"login\" and option!=\"reg\"):\n",
    "        begin()\n",
    "        \n",
    "begin()\n",
    "access(option)\n",
    "\n",
    "if(granted):\n",
    "    print(\"Welcome to Brain Mentors Login System\")\n",
    "    print(\"### USER DETAILS ###\")\n",
    "    print(\"Username: \",name)\n"
   ]
  },
  {
   "cell_type": "code",
   "execution_count": null,
   "id": "913072e9",
   "metadata": {},
   "outputs": [],
   "source": []
  }
 ],
 "metadata": {
  "kernelspec": {
   "display_name": "Python 3 (ipykernel)",
   "language": "python",
   "name": "python3"
  },
  "language_info": {
   "codemirror_mode": {
    "name": "ipython",
    "version": 3
   },
   "file_extension": ".py",
   "mimetype": "text/x-python",
   "name": "python",
   "nbconvert_exporter": "python",
   "pygments_lexer": "ipython3",
   "version": "3.9.7"
  }
 },
 "nbformat": 4,
 "nbformat_minor": 5
}
